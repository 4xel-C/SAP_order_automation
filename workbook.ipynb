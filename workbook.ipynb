{
 "cells": [
  {
   "cell_type": "code",
   "execution_count": 236,
   "metadata": {},
   "outputs": [],
   "source": [
    "import pandas as pd\n",
    "\n",
    "# Allow complete visualization\n",
    "pd.set_option(\"display.max_columns\", None)\n",
    "pd.set_option(\"display.max_rows\", None)\n",
    "\n",
    "# Load dataframe\n",
    "df = pd.read_excel(r\"data/Stock-article-magasin-CRLD---2022.V2.xlsx\")\n",
    "\n",
    "# Prepare the constants so it matches the columns name: \n",
    "\n",
    "CODE = \"code\"\n",
    "MANUFACTURER = \"manufacturer\"\n",
    "DESCRIPTION = \"description\"\n",
    "CATEGORY = \"category\"       \n",
    "\n",
    "# Items list filter constants\n",
    "SOLVANTS = [\"ACET\", \"CHLORO\", \"ETH\", \"DMSO\", \"DIMETHYL\", \"HEPT\", \"TETRA\", \"PROP\", \"TOLUE\"]   # Keywords to detect solvants\n",
    "CONSUMABLE = [\"AIGU\", \"GANT\", \"PIPETT\", \"PASTE\", \"PARAF\", \"FLACON\", \"POUB\", \"ALU\", \"SOPA\", \"KIM\", \"RMN\", \"ESSAIS\"]\n",
    "PURIFICATION = [\"COLON\"]\n",
    "MISC = [\"SABLE\", \"SILICE\", \"GRANU\", \"SODIUM\", \"JAVEL\"]"
   ]
  },
  {
   "cell_type": "code",
   "execution_count": 237,
   "metadata": {},
   "outputs": [],
   "source": [
    "df = df.rename(columns={df.columns[0]: CODE,\n",
    "                   df.columns[1]: MANUFACTURER,\n",
    "                   df.columns[5]: DESCRIPTION})"
   ]
  },
  {
   "cell_type": "code",
   "execution_count": 230,
   "metadata": {},
   "outputs": [],
   "source": [
    "# drop rows with empty \"fabricant\" column =>  No avaibility, change the NaN value for nmr tubes (so they  are not deleted)\n",
    "df.loc[df[DESCRIPTION].str.contains(\"RMN\"), MANUFACTURER] = \"No value\"\n",
    "df = df.dropna(subset=MANUFACTURER)"
   ]
  },
  {
   "cell_type": "code",
   "execution_count": 238,
   "metadata": {},
   "outputs": [],
   "source": [
    "df.loc[:, DESCRIPTION] = df[DESCRIPTION].str.replace(\"\\n\", \" \")\n",
    "df.loc[:, DESCRIPTION] = df[DESCRIPTION].str.capitalize()\n",
    "df.loc[:, DESCRIPTION]= df[DESCRIPTION].str.strip()"
   ]
  },
  {
   "cell_type": "code",
   "execution_count": 239,
   "metadata": {},
   "outputs": [],
   "source": [
    "df.loc[df[DESCRIPTION].str.contains(\"|\".join(SOLVANTS), case=False),  \"category\"] = \"solvant\"\n",
    "df.loc[df[DESCRIPTION].str.contains(\"|\".join(CONSUMABLE), case=False), \"category\"] = \"consumable\"\n",
    "df.loc[df[DESCRIPTION].str.contains(\"|\".join(PURIFICATION), case=False), \"category\"] = \"purification\"\n",
    "df.loc[df[DESCRIPTION].str.contains(\"|\".join(MISC), case=False), \"category\"] = \"miscelanous\"\n",
    "df.loc[df[\"category\"].isnull(), \"category\"] = \"other\"\n"
   ]
  },
  {
   "cell_type": "code",
   "execution_count": 249,
   "metadata": {},
   "outputs": [
    {
     "data": {
      "text/plain": [
       "array(['solvant', 'purification', 'other', 'miscelanous', 'consumable'],\n",
       "      dtype=object)"
      ]
     },
     "execution_count": 249,
     "metadata": {},
     "output_type": "execute_result"
    }
   ],
   "source": [
    "df['category'].sort_values(ascending=False).unique()\n"
   ]
  },
  {
   "cell_type": "code",
   "execution_count": 183,
   "metadata": {},
   "outputs": [],
   "source": [
    "df = df.rename(\n",
    "                columns={\n",
    "                    df.columns[0]: CODE,\n",
    "                    df.columns[1]: MANUFACTURER,\n",
    "                    df.columns[5]: DESCRIPTION\n",
    "                }\n",
    "            )"
   ]
  },
  {
   "cell_type": "code",
   "execution_count": 3,
   "metadata": {},
   "outputs": [
    {
     "name": "stdout",
     "output_type": "stream",
     "text": [
      "0 86987970 1\n",
      "1 40658598 1\n",
      "2 86989736 4\n"
     ]
    }
   ],
   "source": [
    "dict = {86987970: 1, 40658598: 1, 86989736: 4}\n",
    "\n",
    "for i, (item, qty) in enumerate(dict.items()):\n",
    "    print(i, item, qty)"
   ]
  },
  {
   "cell_type": "code",
   "execution_count": 264,
   "metadata": {},
   "outputs": [
    {
     "data": {
      "text/plain": [
       "'Acetone normapur (1 l)'"
      ]
     },
     "execution_count": 264,
     "metadata": {},
     "output_type": "execute_result"
    }
   ],
   "source": [
    "df.loc[df[CODE] ==  86987970, DESCRIPTION].iloc[0]"
   ]
  }
 ],
 "metadata": {
  "kernelspec": {
   "display_name": "Python_conda",
   "language": "python",
   "name": "python3"
  },
  "language_info": {
   "codemirror_mode": {
    "name": "ipython",
    "version": 3
   },
   "file_extension": ".py",
   "mimetype": "text/x-python",
   "name": "python",
   "nbconvert_exporter": "python",
   "pygments_lexer": "ipython3",
   "version": "3.12.3"
  }
 },
 "nbformat": 4,
 "nbformat_minor": 2
}
